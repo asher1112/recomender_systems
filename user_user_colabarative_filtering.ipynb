{
 "cells": [
  {
   "cell_type": "code",
   "execution_count": 1,
   "metadata": {},
   "outputs": [],
   "source": [
    "import numpy as np\n",
    "import pandas as pd\n",
    "import pickle\n",
    "import time"
   ]
  },
  {
   "cell_type": "code",
   "execution_count": 2,
   "metadata": {},
   "outputs": [],
   "source": [
    "# load the  data\n",
    "\n",
    "with open('../data/user2movie.pkl', 'rb') as f:\n",
    "  user2movie = pickle.load(f)\n",
    "\n",
    "with open('../data/movie2user.pkl', 'rb') as f:\n",
    "  movie2user = pickle.load(f)\n",
    "\n",
    "with open('../data/usermovie2rating.pkl', 'rb') as f:\n",
    "  usermovie2rating = pickle.load(f)\n",
    "\n",
    "\n",
    "# test data\n",
    "\n",
    "with open('../data/user2movie_test.pkl', 'rb') as f:\n",
    "  user2movie_test = pickle.load(f)\n",
    "\n",
    "with open('../data/movie2user_test.pkl', 'rb') as f:\n",
    "  movie2user_test = pickle.load(f)\n",
    "\n",
    "\n",
    "with open('../data/usermovie2rating_test.pkl', 'rb') as f:\n",
    "  usermovie2rating_test = pickle.load(f)"
   ]
  },
  {
   "cell_type": "markdown",
   "metadata": {},
   "source": [
    "## average rating of each user"
   ]
  },
  {
   "cell_type": "code",
   "execution_count": 3,
   "metadata": {},
   "outputs": [
    {
     "name": "stdout",
     "output_type": "stream",
     "text": [
      "CPU times: user 402 ms, sys: 1.31 ms, total: 403 ms\n",
      "Wall time: 402 ms\n"
     ]
    }
   ],
   "source": [
    "%%time\n",
    "# create dictonary with user as key and average rating as value\n",
    "avg_rating_for_user = {}\n",
    "for i in user2movie:\n",
    "    \n",
    "    list_movies = user2movie[i]\n",
    "    ratings = []\n",
    "    \n",
    "    for j in list_movies:\n",
    "        ratings.append(usermovie2rating[(i , j)])\n",
    "        \n",
    "    avg_rating = sum(ratings) / len(ratings)\n",
    "    avg_rating_for_user[i] = avg_rating"
   ]
  },
  {
   "cell_type": "markdown",
   "metadata": {},
   "source": [
    "## The baseline model"
   ]
  },
  {
   "cell_type": "code",
   "execution_count": 4,
   "metadata": {},
   "outputs": [],
   "source": [
    "# use mse as the metric\n",
    "\n",
    "# calculate mse from 2 dictonarys\n",
    "def calc_mse(pred_dict , actual_dict):\n",
    "    pred_keys = list(pred_dict.keys())\n",
    "    pred_list = []\n",
    "    actual_list = []\n",
    "    \n",
    "    for i in pred_keys:\n",
    "        actual_list.append(actual_dict[i])\n",
    "        pred_list.append(pred_dict[i])\n",
    "    pred_array = np.asarray(pred_list)\n",
    "    actual_array = np.asarray(actual_list)\n",
    "    \n",
    "    mse = np.sum((pred_array - actual_array)**2) / len(pred_array)\n",
    "    return mse"
   ]
  },
  {
   "cell_type": "code",
   "execution_count": 5,
   "metadata": {},
   "outputs": [],
   "source": [
    "# the baseline model will be using the average rating as the rating for each user\n",
    "\n",
    "# store items in dictionary\n",
    "\n",
    "def baseline(user2movie = user2movie , usermovie2rating = usermovie2rating):\n",
    "    baseline_predictions = {}\n",
    "    num_of_user = len(user2movie.keys())\n",
    "    for i in range(num_of_user):\n",
    "        movies = user2movie[i]\n",
    "        for j in movies:\n",
    "            baseline_predictions[(i , j)] = avg_rating_for_user[i]\n",
    "    return baseline_predictions"
   ]
  },
  {
   "cell_type": "code",
   "execution_count": 6,
   "metadata": {},
   "outputs": [],
   "source": [
    "train_baseline_predictions = baseline(user2movie= user2movie , usermovie2rating = usermovie2rating)\n",
    "test_baseline_predictions = baseline(user2movie= user2movie_test , usermovie2rating = usermovie2rating_test)"
   ]
  },
  {
   "cell_type": "code",
   "execution_count": 7,
   "metadata": {},
   "outputs": [
    {
     "data": {
      "text/plain": [
       "0.8679885735783192"
      ]
     },
     "execution_count": 7,
     "metadata": {},
     "output_type": "execute_result"
    }
   ],
   "source": [
    "# mse on the train set\n",
    "calc_mse(pred_dict=train_baseline_predictions , actual_dict=usermovie2rating)"
   ]
  },
  {
   "cell_type": "code",
   "execution_count": 8,
   "metadata": {},
   "outputs": [
    {
     "data": {
      "text/plain": [
       "0.8732110245400387"
      ]
     },
     "execution_count": 8,
     "metadata": {},
     "output_type": "execute_result"
    }
   ],
   "source": [
    "# mse on the test set\n",
    "calc_mse(pred_dict= test_baseline_predictions , actual_dict= usermovie2rating_test)"
   ]
  },
  {
   "cell_type": "markdown",
   "metadata": {},
   "source": [
    "## The weights for colabarative filtering"
   ]
  },
  {
   "cell_type": "markdown",
   "metadata": {},
   "source": [
    "The weights are given by:\n",
    "\n",
    "$$ w_{ii'} = \\frac{\\sum_{j \\in \\psi_{ii'}} (r_{ij} -\\bar{r_{i}})(r_{i'j} -\\bar{r_{i'}}) }{\\sqrt{\\sum_{j \\in \\psi_{ii'}}(r_{ij} - \\bar{r}_{i})^{2}}   \\sqrt{\\sum_{j \\in \\psi_{ii'}} (r_{i'j} - \\bar{r}_{i'})^{2} } } $$"
   ]
  },
  {
   "cell_type": "markdown",
   "metadata": {},
   "source": [
    "$w_{ii'}$ - the weights\n",
    "\n",
    "$\\psi_{ii'}$ - set of movies rated by both i and i'\n",
    "\n",
    "$r_{i'j}$ - rating user i' gave rating j\n",
    "\n",
    "$r_{ij}$ - rating user i gave rating j\n",
    "\n",
    "$\\bar{r_{i}}$ - average rating of user i\n",
    "\n",
    "$\\bar{r_{i'}}$ - average rating of user i'"
   ]
  },
  {
   "cell_type": "code",
   "execution_count": 9,
   "metadata": {},
   "outputs": [],
   "source": [
    "# some helper functions\n",
    "\n",
    "# generates an array of ratigns\n",
    "def array_of_ratings (user , shared_movies):\n",
    "    my_list = []\n",
    "    for i in shared_movies:\n",
    "        my_list.append(usermovie2rating[user , i])\n",
    "    return np.asarray(my_list)\n",
    "\n",
    "# formula for calculating weights\n",
    "def calculate_weights(dev_0 , dev_1):\n",
    "    return np.dot(dev_0 , dev_1) / (np.sqrt(np.sum(dev_0**2)) * np.sqrt(np.sum(dev_1**2)))\n",
    "\n",
    "# returns only the 25 most relavant key value pairs for the dictionary\n",
    "def filter_dictonary(my_dict , num = 25):\n",
    "    my_series = pd.Series(my_dict)\n",
    "    my_series2 = my_series.copy()    \n",
    "    # decided by larged modulo value as negative values have equal use to positive values\n",
    "    index = my_series.apply(lambda x : np.abs(x)).sort_values(ascending = False).head(num).index.to_list()\n",
    "    return my_series.loc[index].to_dict()"
   ]
  },
  {
   "cell_type": "code",
   "execution_count": 10,
   "metadata": {
    "scrolled": true
   },
   "outputs": [
    {
     "name": "stdout",
     "output_type": "stream",
     "text": [
      "number of cycles passed: 200\n",
      "time taken so far is  63.65066123008728 seconds\n",
      "number of cycles passed: 400\n",
      "time taken so far is  132.45628023147583 seconds\n",
      "number of cycles passed: 600\n",
      "time taken so far is  203.9902799129486 seconds\n",
      "number of cycles passed: 800\n",
      "time taken so far is  270.407968044281 seconds\n",
      "number of cycles passed: 1000\n",
      "time taken so far is  336.7224073410034 seconds\n",
      "total time 336.7225227355957 in seconds\n"
     ]
    }
   ],
   "source": [
    "#total complexity O(N^2 M) where N is number of users and M is number of movies\n",
    "start = time.time()\n",
    "\n",
    "#num of users\n",
    "users = len(user2movie.keys())\n",
    "#keep all values stored inside a dictionary\n",
    "all_user_weights = {}\n",
    "#length of common movies required\n",
    "l = 5\n",
    "for u in range(users): #O(N)\n",
    "\n",
    "    # weights dictionary\n",
    "    weights_dict = {}\n",
    "    movies_u = set(user2movie[u])\n",
    "    for i in user2movie: #O(N)\n",
    "        if i is not u:\n",
    "            movies_i = set(user2movie[i]) #O(M)\n",
    "            shared_movies = movies_i & movies_u\n",
    "\n",
    "            if len(shared_movies) >= l:\n",
    "            \n",
    "                # ratings of shared movies by both users\n",
    "                arr_0_ratings = array_of_ratings(u , shared_movies)\n",
    "                arr_1_ratings = array_of_ratings(i , shared_movies)\n",
    "            \n",
    "                # average ratings by both users\n",
    "                avg_r0 = avg_rating_for_user[u]\n",
    "                avg_r1 = avg_rating_for_user[i]\n",
    "\n",
    "                weights_dict[i] = calculate_weights(arr_1_ratings - avg_r1 , arr_0_ratings - avg_r0)\n",
    "    sorted_dict = filter_dictonary(weights_dict)\n",
    "    all_user_weights[u] = sorted_dict\n",
    "    \n",
    "    # keep track of where we are at during while generating the weights\n",
    "    if (u+1) % 200 == 0:\n",
    "        print('number of cycles passed:' , u + 1)\n",
    "        print('time taken so far is ',  time.time() - start , 'seconds')\n",
    "    \n",
    "    \n",
    "end = time.time()\n",
    "print('total time' , end - start , 'in seconds')"
   ]
  },
  {
   "cell_type": "code",
   "execution_count": 11,
   "metadata": {},
   "outputs": [],
   "source": [
    "# save the weights dictionary since data takes long time to generate\n",
    "\n",
    "with open('../data/user_user_weights_saved_data.pkl', 'wb') as f:\n",
    "    pickle.dump(all_user_weights, f)"
   ]
  },
  {
   "cell_type": "markdown",
   "metadata": {},
   "source": [
    "## User-User Colabarative Filtering"
   ]
  },
  {
   "cell_type": "markdown",
   "metadata": {},
   "source": [
    "$$ \\hat{dev}(i , j) = \\frac{ \\sum_{i' \\in \\Omega_{j}}  w_{ii'}( r(i' , j) - \\bar{r_{i'}})}{\\sum_{i' \\in \\Omega_{i'}}|w_{ii'}| } $$"
   ]
  },
  {
   "cell_type": "markdown",
   "metadata": {},
   "source": [
    "$$ s(i , j) = \\bar{r_{i}} + \\hat{dev}( i , j ) $$"
   ]
  },
  {
   "cell_type": "markdown",
   "metadata": {},
   "source": [
    "s(i , j) - rating user i gives to item j\n",
    "\n",
    "$\\bar{r_{i}}$ - average rating of user i\n",
    "\n",
    "$\\hat{dev(i , j)}$ - weighted deviation of movie j other users i'\n",
    "\n",
    "$\\hat{r(i' , j)}$ - rating user i' gave to item j\n",
    "\n",
    "$\\bar{r_{i'}}$ - average rating of user i'\n",
    "\n",
    "$w_{ii'}$ - weight between user i and i'\n",
    "\n",
    "$\\Omega_{i'}$ - all relavant users with relavant shared movie"
   ]
  },
  {
   "cell_type": "code",
   "execution_count": 12,
   "metadata": {},
   "outputs": [],
   "source": [
    "# now we need to make predictions on the data we have\n",
    "\n",
    "def make_predictions(all_user_weights = all_user_weights , user2movie = user2movie \n",
    "                                , movie2user = movie2user, usermovie2rating = usermovie2rating):\n",
    "    # users\n",
    "    users = len(user2movie.keys())\n",
    "    \n",
    "    # keep all the predictions in a dictionary\n",
    "    pred_user_movie2rating = {}\n",
    "    \n",
    "    for u in range(users):\n",
    "        \n",
    "        #weights of each user\n",
    "        user_weights = all_user_weights[u]\n",
    "        \n",
    "        # all movies watched by our relavant user\n",
    "        movies = user2movie[u]\n",
    "        \n",
    "        for m in movies:\n",
    "\n",
    "            # find common users\n",
    "            common_users = set(user_weights.keys())\n",
    "            \n",
    "            # set of all users who have rated move m\n",
    "            all_users_movie_m = set(movie2user[m])\n",
    "\n",
    "\n",
    "            # set of users who have rated moive m and have a weight in dictionary\n",
    "            relavant_users = all_users_movie_m & set(common_users)\n",
    "            \n",
    "            denominator = 0\n",
    "            numerator = 0\n",
    "            for i in relavant_users:\n",
    "                numerator += all_user_weights[u][i] * (usermovie2rating[(i , m)] - avg_rating_for_user[i])\n",
    "                denominator += float(np.abs(all_user_weights[u][i]))\n",
    "            \n",
    "            if int(denominator) != 0:\n",
    "                pred_user_movie2rating[(u , m)] = avg_rating_for_user[u] +  numerator/denominator\n",
    "            else:\n",
    "                pred_user_movie2rating[( u , m)] = avg_rating_for_user[u]\n",
    "    \n",
    "    return pred_user_movie2rating"
   ]
  },
  {
   "cell_type": "markdown",
   "metadata": {},
   "source": [
    "## Evaluating the model"
   ]
  },
  {
   "cell_type": "code",
   "execution_count": 13,
   "metadata": {
    "scrolled": true
   },
   "outputs": [
    {
     "name": "stdout",
     "output_type": "stream",
     "text": [
      "CPU times: user 22.2 s, sys: 63.5 ms, total: 22.3 s\n",
      "Wall time: 22.3 s\n"
     ]
    }
   ],
   "source": [
    "%%time\n",
    "# make predictions from train data\n",
    "train_data = make_predictions()"
   ]
  },
  {
   "cell_type": "code",
   "execution_count": 14,
   "metadata": {},
   "outputs": [],
   "source": [
    "# test data 2\n",
    "test_data = make_predictions(user2movie = user2movie_test)"
   ]
  },
  {
   "cell_type": "code",
   "execution_count": 15,
   "metadata": {},
   "outputs": [
    {
     "data": {
      "text/plain": [
       "0.4410769437772073"
      ]
     },
     "execution_count": 15,
     "metadata": {},
     "output_type": "execute_result"
    }
   ],
   "source": [
    "# evaluate train by mse\n",
    "calc_mse(pred_dict= train_data  , actual_dict= usermovie2rating)"
   ]
  },
  {
   "cell_type": "code",
   "execution_count": 16,
   "metadata": {
    "scrolled": true
   },
   "outputs": [
    {
     "data": {
      "text/plain": [
       "0.6300383317556393"
      ]
     },
     "execution_count": 16,
     "metadata": {},
     "output_type": "execute_result"
    }
   ],
   "source": [
    "# evaluate test by mse\n",
    "calc_mse(pred_dict= test_data  , actual_dict= usermovie2rating_test)"
   ]
  },
  {
   "cell_type": "markdown",
   "metadata": {},
   "source": [
    "## Predicting on new data"
   ]
  },
  {
   "cell_type": "code",
   "execution_count": 17,
   "metadata": {},
   "outputs": [],
   "source": [
    "# now we need to predict a set of ratings for each user for movies they have not watched\n",
    "\n",
    "#number of movies\n",
    "set_of_movies = set(movie2user.keys())"
   ]
  },
  {
   "cell_type": "code",
   "execution_count": 18,
   "metadata": {},
   "outputs": [],
   "source": [
    "unrated_user2movie = {}\n",
    "for key in user2movie:\n",
    "    movies_watched_train = set(user2movie[key])\n",
    "    movies_watched_test = set(user2movie_test[key])\n",
    "    movies_not_watched = set_of_movies - (movies_watched_train | movies_watched_test)\n",
    "    for i in movies_not_watched:\n",
    "        if key not in unrated_user2movie:\n",
    "            unrated_user2movie[key] = [i]\n",
    "        else:\n",
    "            unrated_user2movie[key].append(i)"
   ]
  },
  {
   "cell_type": "code",
   "execution_count": 19,
   "metadata": {},
   "outputs": [],
   "source": [
    "# predictions on unwatched moives\n",
    "predictions = make_predictions(user2movie = unrated_user2movie)"
   ]
  },
  {
   "cell_type": "code",
   "execution_count": 20,
   "metadata": {},
   "outputs": [
    {
     "data": {
      "text/plain": [
       "372887"
      ]
     },
     "execution_count": 20,
     "metadata": {},
     "output_type": "execute_result"
    }
   ],
   "source": [
    "len(predictions)"
   ]
  }
 ],
 "metadata": {
  "kernelspec": {
   "display_name": "Python 3",
   "language": "python",
   "name": "python3"
  },
  "language_info": {
   "codemirror_mode": {
    "name": "ipython",
    "version": 3
   },
   "file_extension": ".py",
   "mimetype": "text/x-python",
   "name": "python",
   "nbconvert_exporter": "python",
   "pygments_lexer": "ipython3",
   "version": "3.7.9"
  }
 },
 "nbformat": 4,
 "nbformat_minor": 4
}
