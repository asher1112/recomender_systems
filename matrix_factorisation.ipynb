{
 "cells": [
  {
   "cell_type": "code",
   "execution_count": 1,
   "metadata": {},
   "outputs": [],
   "source": [
    "import numpy as np\n",
    "import pandas as pd\n",
    "import matplotlib.pyplot as plt\n",
    "import time\n",
    "import pickle"
   ]
  },
  {
   "cell_type": "code",
   "execution_count": 2,
   "metadata": {},
   "outputs": [],
   "source": [
    "# load the  data\n",
    "with open('../data/user2movie.pkl', 'rb') as f:\n",
    "  user2movie = pickle.load(f)\n",
    "with open('../data/movie2user.pkl', 'rb') as f:\n",
    "  movie2user = pickle.load(f)\n",
    "with open('../data/usermovie2rating.pkl', 'rb') as f:\n",
    "  usermovie2rating = pickle.load(f)\n",
    "with open('../data/user2movie_test.pkl', 'rb') as f:\n",
    "  user2movie_test = pickle.load(f)\n",
    "with open('../data/movie2user_test.pkl', 'rb') as f:\n",
    "  movie2user_test = pickle.load(f)\n",
    "with open('../data/usermovie2rating_test.pkl', 'rb') as f:\n",
    "  usermovie2rating_test = pickle.load(f)"
   ]
  },
  {
   "cell_type": "code",
   "execution_count": 3,
   "metadata": {},
   "outputs": [
    {
     "name": "stdout",
     "output_type": "stream",
     "text": [
      "1000 1000\n"
     ]
    }
   ],
   "source": [
    "num_users = len(set(user2movie))\n",
    "num_movies = len(set(movie2user.keys()))\n",
    "print(num_movies , num_users)"
   ]
  },
  {
   "cell_type": "code",
   "execution_count": 4,
   "metadata": {},
   "outputs": [],
   "source": [
    "# initialise values\n",
    "k = 10 # latent dimensionality\n",
    "w = np.random.randn(num_users, k)\n",
    "b = np.zeros(num_users)\n",
    "u = np.random.randn(num_movies, k)\n",
    "c = np.zeros(num_movies)\n",
    "mu = np.mean(list(usermovie2rating.values()))\n",
    "reg =20. # regularization penalty"
   ]
  },
  {
   "cell_type": "code",
   "execution_count": 5,
   "metadata": {},
   "outputs": [],
   "source": [
    "def calc_r_ij(w_i, u_j, b_i,  c_j , mu):\n",
    "    return w_i.dot(u_j) + b_i + c_j + mu"
   ]
  },
  {
   "cell_type": "code",
   "execution_count": 6,
   "metadata": {},
   "outputs": [],
   "source": [
    "def create_predictions(um2r , w , u , b , c , mu):\n",
    "    pred_dict = {}\n",
    "    for i , rating in usermovie2rating.items():\n",
    "        user , movie = i\n",
    "        r_ij_hat = calc_r_ij(w[user] , u[movie] , b[user] , c[movie] , mu)\n",
    "        pred_dict[i] = r_ij_hat\n",
    "    return pred_dict"
   ]
  },
  {
   "cell_type": "code",
   "execution_count": 7,
   "metadata": {},
   "outputs": [],
   "source": [
    "def update_wb(reg , k , num_users , w , u , b , c , mu , um2r , u2m):\n",
    "    for user in range(num_users):\n",
    "        movies_list = u2m[user]\n",
    "        my_vector = np.zeros(k)\n",
    "        b_user = 0\n",
    "        my_matrix = np.eye(k) * reg\n",
    "        for movie in movies_list:\n",
    "            r = um2r[(user , movie)]\n",
    "            my_vector += (r - b[user] - c[movie] - mu) * u[movie]\n",
    "            my_matrix += np.outer(u[movie] , u[movie])\n",
    "        \n",
    "            b_user += (r - w[user].dot(u[movie]) - c[movie] - mu)\n",
    "        \n",
    "        w[user] = np.linalg.solve(my_matrix , my_vector)\n",
    "        b[user] = b_user / (len(movies_list) + reg) \n",
    "    return w , b"
   ]
  },
  {
   "cell_type": "code",
   "execution_count": 8,
   "metadata": {},
   "outputs": [],
   "source": [
    "def update_uc(reg , k , num_movies , w , u , b , c , mu , um2r , m2u):\n",
    "    for movie in range(num_movies):\n",
    "        c_movie = 0\n",
    "        my_matrix = np.eye(k) * reg\n",
    "        my_vector = np.zeros(k)\n",
    "        user_list = m2u[movie]\n",
    "        for user in user_list:\n",
    "            r = um2r[(user , movie)]\n",
    "            my_vector += (r - b[user] - c[movie] - mu) * w[user]\n",
    "            my_matrix += np.outer(w[user] , w[user])\n",
    "            c_movie += (r - w[user].dot(u[movie])  - b[user] - mu)\n",
    "        u[movie] = np.linalg.solve(my_matrix , my_vector)\n",
    "        c[movie] = c_movie/ (len(user_list) + reg)\n",
    "    return u , c"
   ]
  },
  {
   "cell_type": "code",
   "execution_count": 9,
   "metadata": {},
   "outputs": [],
   "source": [
    "# mse as metric for performance\n",
    "def loss(d, w , u , b , c , mu): # user to movie matrix\n",
    "    # d: (user_id, movie_id) -> rating\n",
    "    len_dict = float(len(d))\n",
    "    sse = 0\n",
    "    for key, rating in d.items():\n",
    "        user, movie = key\n",
    "        pred = w[user].dot(u[movie]) + b[user] + c[movie] + mu\n",
    "        sse += (pred - rating)**2\n",
    "    return sse / len_dict"
   ]
  },
  {
   "cell_type": "code",
   "execution_count": 10,
   "metadata": {},
   "outputs": [],
   "source": [
    "#use lambda for norm as its quicker to write\n",
    "norm = lambda x: np.linalg.norm(x)**2\n",
    "\n",
    "def reg_loss(d , w , u , b , c , mu ,reg):\n",
    "    my_loss = loss(d , w , u , b ,c , mu)\n",
    "    reg_loss = my_loss + (reg * (norm(w) + norm(u) + norm(b) + norm(c)))\n",
    "    return my_loss , reg_loss"
   ]
  },
  {
   "cell_type": "code",
   "execution_count": 11,
   "metadata": {},
   "outputs": [],
   "source": [
    "train_losses = []\n",
    "train_reg_losses = []\n",
    "\n",
    "# test data\n",
    "test_losses = []\n",
    "test_reg_losses = []"
   ]
  },
  {
   "cell_type": "code",
   "execution_count": 12,
   "metadata": {},
   "outputs": [
    {
     "name": "stdout",
     "output_type": "stream",
     "text": [
      "CPU times: user 5min 10s, sys: 4.92 s, total: 5min 15s\n",
      "Wall time: 5min 9s\n"
     ]
    }
   ],
   "source": [
    "%%time\n",
    "epochs = 25\n",
    "for epoch in range(epochs):\n",
    "    w , b = update_wb(reg , k , num_users , w , u , b , c , mu , usermovie2rating , user2movie)\n",
    "    u , c = update_uc(reg , k , num_movies , w , u , b , c , mu , usermovie2rating , movie2user)\n",
    "    # pred_dict = create_predictions(usermovie2rating , w , u , b , c , mu)\n",
    "    train_loss, train_reg_loss = reg_loss(usermovie2rating , w , u , b , c , mu , reg)\n",
    "    \n",
    "    train_reg_losses.append(train_reg_loss)\n",
    "    train_losses.append(train_loss)\n",
    "    \n",
    "    test_loss , test_reg_loss = reg_loss(usermovie2rating_test , w , u , b , c , mu , reg)\n",
    "    \n",
    "    test_losses.append(test_loss)\n",
    "    test_reg_losses.append(test_reg_loss)"
   ]
  },
  {
   "cell_type": "code",
   "execution_count": 14,
   "metadata": {},
   "outputs": [
    {
     "data": {
      "image/png": "[encoded data removed]",
      "text/plain": [
       "<Figure size 1152x288 with 1 Axes>"
      ]
     },
     "metadata": {
      "needs_background": "light"
     },
     "output_type": "display_data"
    }
   ],
   "source": [
    "plt.figure(figsize=(16, 4))\n",
    "plt.title('loss of train and test data against epochs')\n",
    "plt.plot(train_losses , marker = 'o' , label = 'train')\n",
    "plt.plot(test_losses , marker = 'o' , label = 'test')\n",
    "plt.legend()\n",
    "plt.show()"
   ]
  },
  {
   "cell_type": "code",
   "execution_count": 15,
   "metadata": {},
   "outputs": [
    {
     "data": {
      "image/png": "[encoded data removed]",
      "text/plain": [
       "<Figure size 1152x288 with 1 Axes>"
      ]
     },
     "metadata": {
      "needs_background": "light"
     },
     "output_type": "display_data"
    }
   ],
   "source": [
    "#l2 regulization is supposed to increase with number of epochs\n",
    "plt.figure(figsize = (16 , 4))\n",
    "plt.title('regulization loss of train and test data against epochs')\n",
    "plt.plot(train_reg_losses , marker = 'o', label = 'train')\n",
    "plt.plot(test_reg_losses , marker = 'o', label = 'test' , alpha = 0.5)\n",
    "plt.legend()\n",
    "plt.show()"
   ]
  }
 ],
 "metadata": {
  "kernelspec": {
   "display_name": "Python 3",
   "language": "python",
   "name": "python3"
  },
  "language_info": {
   "codemirror_mode": {
    "name": "ipython",
    "version": 3
   },
   "file_extension": ".py",
   "mimetype": "text/x-python",
   "name": "python",
   "nbconvert_exporter": "python",
   "pygments_lexer": "ipython3",
   "version": "3.8.5"
  }
 },
 "nbformat": 4,
 "nbformat_minor": 4
}